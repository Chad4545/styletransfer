{
 "cells": [
  {
   "cell_type": "code",
   "execution_count": null,
   "metadata": {},
   "outputs": [],
   "source": [
    "import torch\n",
    "from PIL import Image\n",
    "\n",
    "\n",
    "def load_image(filename,size=None, scale=None):\n",
    "    img = Image.open(filename)\n",
    "    if size is not None:\n",
    "        img = img.resize((size,size),Image.BICUBIC)\n",
    "    elif scale is not None:\n",
    "        img = img.resize((int(img.size[0] / scale),int(img.size[1]/scale)),Image.BICUBIC)\n",
    "    return img\n",
    "\n",
    "def save_image(fliename, data):\n",
    "    # data == torch\n",
    "    # clone == 복사\n",
    "    # Clamp all elements in input into the range [min, max] and return a resulting Tensor.\n",
    "    img = data.clone().clamp(0,255).numpy()\n",
    "    # tensor: (C, W, H) - > np: (W,H,C)\n",
    "    img = img.transpose(1,2,0).astype(\"uint8\")\n",
    "    img.save(filename)\n",
    "    \n",
    "def gram_matrix(y):\n",
    "    (b,ch,h,w) = y.size()\n",
    "    \n",
    "    features = y.view(b,ch,w*h)\n",
    "    #b,c, 65536\n",
    "    features_t = features.transpose(1,2)\n",
    "    #b, 65536, c\n",
    "    gram = features.bmm(features_t)/(ch*h*w)\n",
    "    # b,c,c\n",
    "    return gram\n",
    "\n",
    "def normalize_batch(batch):\n",
    "    # normalize using imagenet mean and std\n",
    "\n",
    "    mean = batch.new_tensor([0.485, 0.456, 0.406]).view(-1, 1, 1)\n",
    "    # 3, 1, 1\n",
    "    std = batch.new_tensor([0.229, 0.224, 0.225]).view(-1, 1, 1)\n",
    "    # 3,1,1\n",
    "    batch = batch.div_(255.0)\n",
    "    return (batch - mean) / std\n"
   ]
  }
 ],
 "metadata": {
  "kernelspec": {
   "display_name": "PyTorch",
   "language": "python",
   "name": "pytorch"
  },
  "language_info": {
   "codemirror_mode": {
    "name": "ipython",
    "version": 3
   },
   "file_extension": ".py",
   "mimetype": "text/x-python",
   "name": "python",
   "nbconvert_exporter": "python",
   "pygments_lexer": "ipython3",
   "version": "3.6.8"
  }
 },
 "nbformat": 4,
 "nbformat_minor": 2
}
